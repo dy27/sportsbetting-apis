{
 "cells": [
  {
   "cell_type": "markdown",
   "metadata": {},
   "source": [
    "# Betfair API Example"
   ]
  },
  {
   "cell_type": "markdown",
   "metadata": {},
   "source": [
    "## Instantiate API"
   ]
  },
  {
   "cell_type": "code",
   "execution_count": 1,
   "metadata": {},
   "outputs": [],
   "source": [
    "import sys\n",
    "sys.path.append('..')\n",
    "from apis.betfair.betfair_api import BetfairAPI\n",
    "import json\n",
    "\n",
    "api = BetfairAPI()"
   ]
  },
  {
   "cell_type": "markdown",
   "metadata": {},
   "source": [
    "## Login\n",
    "Login is only necessary for retrieval of live pricing data through the `get_markets()` function. If not logged in, `get_markets()` will return delayed prices.\n",
    "\n",
    "Before running the subsequent code, create a `credentials.json` file in this directory with the following structure, filling in your Betfair login details:\n",
    "```\n",
    "{\n",
    "    \"username\" : \"example@gmail.com\",\n",
    "    \"password\" : \"password123\"\n",
    "}\n",
    "```"
   ]
  },
  {
   "cell_type": "code",
   "execution_count": 2,
   "metadata": {},
   "outputs": [
    {
     "name": "stdout",
     "output_type": "stream",
     "text": [
      "Login succeeded\n"
     ]
    }
   ],
   "source": [
    "with open('credentials.json') as f:\n",
    "    cred = json.load(f)\n",
    "    username = cred['username']\n",
    "    password = cred['password']\n",
    "\n",
    "success = api.login(username, password)"
   ]
  },
  {
   "cell_type": "markdown",
   "metadata": {},
   "source": [
    "## List all event types\n"
   ]
  },
  {
   "cell_type": "code",
   "execution_count": 3,
   "metadata": {},
   "outputs": [
    {
     "name": "stdout",
     "output_type": "stream",
     "text": [
      "('1', 'Football')\n",
      "('2', 'Tennis')\n",
      "('3', 'Golf')\n",
      "('4', 'Cricket')\n",
      "('1477', 'Rugby League')\n",
      "('5', 'Rugby Union')\n",
      "('6', 'Boxing')\n",
      "('7', 'Horse Racing')\n",
      "('8', 'Motor Sport')\n",
      "('27454571', 'Esports')\n",
      "('10', 'Special Bets')\n",
      "('998917', 'Volleyball')\n",
      "('11', 'Cycling')\n",
      "('2152880', 'Gaelic Games')\n",
      "('6422', 'Snooker')\n",
      "('7511', 'Baseball')\n",
      "('6423', 'American Football')\n",
      "('6231', 'Financial Bets')\n",
      "('7522', 'Basketball')\n",
      "('7524', 'Ice Hockey')\n",
      "('61420', 'Australian Rules')\n",
      "('468328', 'Handball')\n",
      "('3503', 'Darts')\n",
      "('26420387', 'Mixed Martial Arts')\n",
      "('4339', 'Greyhound Racing')\n",
      "('2378961', 'Politics')\n"
     ]
    }
   ],
   "source": [
    "event_types = api.list_event_types()\n",
    "\n",
    "for event_type in event_types:\n",
    "    print(event_type)"
   ]
  },
  {
   "cell_type": "markdown",
   "metadata": {},
   "source": [
    "## Create a filter for a certain event type"
   ]
  },
  {
   "cell_type": "code",
   "execution_count": 4,
   "metadata": {},
   "outputs": [],
   "source": [
    "event_type_id_map = dict((x[1], x[0]) for x in event_types)\n",
    "tennis_id = event_type_id_map['Tennis']\n",
    "\n",
    "tennis_filter = api.create_market_filter(event_type_ids=[tennis_id])"
   ]
  },
  {
   "cell_type": "markdown",
   "metadata": {},
   "source": [
    "## Get all competitions satisfying the filter"
   ]
  },
  {
   "cell_type": "code",
   "execution_count": 6,
   "metadata": {},
   "outputs": [
    {
     "name": "stdout",
     "output_type": "stream",
     "text": [
      "{\n",
      "    \"key\": \"COMP:12609621\",\n",
      "    \"name\": \"Men's US Open 2023\",\n",
      "    \"competitionId\": 12609621,\n",
      "    \"eventId\": 32575867,\n",
      "    \"eventTypeId\": 2\n",
      "}\n",
      "{\n",
      "    \"key\": \"COMP:12609617\",\n",
      "    \"name\": \"Women's US Open 2023\",\n",
      "    \"competitionId\": 12609617,\n",
      "    \"eventId\": 32575860,\n",
      "    \"eventTypeId\": 2\n",
      "}\n",
      "{\n",
      "    \"key\": \"COMP:12611309\",\n",
      "    \"name\": \"Como Challenger 2023\",\n",
      "    \"competitionId\": 12611309,\n",
      "    \"eventId\": 32589078,\n",
      "    \"eventTypeId\": 2\n",
      "}\n"
     ]
    }
   ],
   "source": [
    "competitions = api.list_competitions(filter=tennis_filter)\n",
    "\n",
    "for i in range(3):\n",
    "    api._print_dict(competitions[i])"
   ]
  },
  {
   "cell_type": "markdown",
   "metadata": {},
   "source": [
    "## Get events associated with a competition"
   ]
  },
  {
   "cell_type": "code",
   "execution_count": 9,
   "metadata": {},
   "outputs": [
    {
     "name": "stdout",
     "output_type": "stream",
     "text": [
      "{\n",
      "    \"eventId\": 32592135,\n",
      "    \"key\": \"EVENT:32592135\",\n",
      "    \"name\": \"Middelkoop/Pavic v Doumbia/Reboul\",\n",
      "    \"eventTypeId\": 2,\n",
      "    \"competitionId\": 12609621,\n",
      "    \"countryCode\": \"US\",\n",
      "    \"timezone\": \"UTC\",\n",
      "    \"openDate\": \"2023-08-31T14:44:00.000Z\",\n",
      "    \"videoAvailable\": true\n",
      "}\n",
      "{\n",
      "    \"eventId\": 32592136,\n",
      "    \"key\": \"EVENT:32592136\",\n",
      "    \"name\": \"Gonzalez/Roger-Vasselin v Cressy/Martin\",\n",
      "    \"eventTypeId\": 2,\n",
      "    \"competitionId\": 12609621,\n",
      "    \"countryCode\": \"US\",\n",
      "    \"timezone\": \"UTC\",\n",
      "    \"openDate\": \"2023-08-31T14:46:00.000Z\",\n",
      "    \"videoAvailable\": true\n",
      "}\n"
     ]
    }
   ],
   "source": [
    "competition_id = competitions[0]['competitionId']\n",
    "competition_filter = api.create_market_filter(competition_ids=[competition_id])\n",
    "\n",
    "events = api.list_events(filter=competition_filter)\n",
    "for i in range(2):\n",
    "    api._print_dict(events[i])"
   ]
  },
  {
   "cell_type": "markdown",
   "metadata": {},
   "source": [
    "## NOT YET IMPLEMENTED: Get list of market types"
   ]
  },
  {
   "cell_type": "markdown",
   "metadata": {},
   "source": [
    "## Get market catalogues associated with an event for a certain market type"
   ]
  },
  {
   "cell_type": "code",
   "execution_count": 12,
   "metadata": {},
   "outputs": [
    {
     "name": "stdout",
     "output_type": "stream",
     "text": [
      "{\n",
      "    \"marketId\": \"1.217647857\",\n",
      "    \"key\": \"MARKET:1.217647857\",\n",
      "    \"eventTypeId\": 2,\n",
      "    \"eventId\": 32592135,\n",
      "    \"upperLevelEventId\": 32575867,\n",
      "    \"topLevelEventId\": 32575867,\n",
      "    \"numberOfUpperLevels\": 1,\n",
      "    \"competitionId\": 12609621,\n",
      "    \"marketName\": \"Match Odds\",\n",
      "    \"marketTime\": \"2023-08-31T14:44:00.000Z\",\n",
      "    \"marketSuspendTime\": \"2023-08-31T14:44:00.000Z\",\n",
      "    \"canTurnInPlay\": true,\n",
      "    \"marketType\": \"MATCH_ODDS\",\n",
      "    \"bspMarket\": false,\n",
      "    \"inplay\": true,\n",
      "    \"totalMatched\": 4735.274772,\n",
      "    \"totalAvailable\": 3506.0730000000003,\n",
      "    \"runners\": [\n",
      "        {\n",
      "            \"selectionId\": 59869841,\n",
      "            \"handicap\": 0.0,\n",
      "            \"runnerName\": \"Middelkoop/Pavic\",\n",
      "            \"sortPriority\": 1,\n",
      "            \"runnerStatus\": \"ACTIVE\"\n",
      "        },\n",
      "        {\n",
      "            \"selectionId\": 12008511,\n",
      "            \"handicap\": 0.0,\n",
      "            \"runnerName\": \"Doumbia/Reboul\",\n",
      "            \"sortPriority\": 2,\n",
      "            \"runnerStatus\": \"ACTIVE\"\n",
      "        }\n",
      "    ],\n",
      "    \"betDelay\": 3,\n",
      "    \"numberOfWinners\": 1,\n",
      "    \"numberOfRunners\": 2,\n",
      "    \"numberOfActiveRunners\": 2,\n",
      "    \"associatedMarkets\": [],\n",
      "    \"marketLevels\": [\n",
      "        \"AVB_EVENT\"\n",
      "    ],\n",
      "    \"bettingType\": \"ODDS\",\n",
      "    \"marketStatus\": \"OPEN\",\n",
      "    \"productType\": \"EXCHANGE\"\n",
      "}\n"
     ]
    }
   ],
   "source": [
    "event_id = events[0]['eventId']\n",
    "market_type = 'MATCH_ODDS'\n",
    "event_filter = api.create_market_filter(event_ids=[event_id], market_type_codes=[market_type])\n",
    "\n",
    "market_catalogues = api.list_market_catalogue(filter=event_filter)\n",
    "api._print_dict(market_catalogues[0])"
   ]
  },
  {
   "cell_type": "markdown",
   "metadata": {},
   "source": [
    "## Get market pricing/odds data for a certain market"
   ]
  },
  {
   "cell_type": "code",
   "execution_count": 13,
   "metadata": {},
   "outputs": [
    {
     "name": "stdout",
     "output_type": "stream",
     "text": [
      "{\n",
      "    \"marketId\": \"1.217647857\",\n",
      "    \"isMarketDataDelayed\": false,\n",
      "    \"highWaterMark\": \"9325069427\",\n",
      "    \"state\": {\n",
      "        \"betDelay\": 3,\n",
      "        \"bspReconciled\": false,\n",
      "        \"complete\": true,\n",
      "        \"inplay\": true,\n",
      "        \"numberOfWinners\": 1,\n",
      "        \"numberOfRunners\": 2,\n",
      "        \"numberOfActiveRunners\": 2,\n",
      "        \"lastMatchTime\": \"2023-08-31T16:17:15.264Z\",\n",
      "        \"totalMatched\": 5394.088316902341,\n",
      "        \"totalAvailable\": 10041.967167510375,\n",
      "        \"crossMatching\": true,\n",
      "        \"runnersVoidable\": false,\n",
      "        \"version\": 5422261145,\n",
      "        \"status\": \"OPEN\"\n",
      "    },\n",
      "    \"runners\": [\n",
      "        {\n",
      "            \"selectionId\": 59869841,\n",
      "            \"handicap\": 0.0,\n",
      "            \"state\": {\n",
      "                \"sortPriority\": 1,\n",
      "                \"lastPriceTraded\": 1.3,\n",
      "                \"totalMatched\": 4744.567258161128,\n",
      "                \"status\": \"ACTIVE\"\n",
      "            },\n",
      "            \"exchange\": {\n",
      "                \"availableToBack\": [\n",
      "                    {\n",
      "                        \"price\": 1.3,\n",
      "                        \"size\": 16.9\n",
      "                    },\n",
      "                    {\n",
      "                        \"price\": 1.29,\n",
      "                        \"size\": 240.07\n",
      "                    },\n",
      "                    {\n",
      "                        \"price\": 1.28,\n",
      "                        \"size\": 391.21\n",
      "                    }\n",
      "                ],\n",
      "                \"availableToLay\": [\n",
      "                    {\n",
      "                        \"price\": 1.31,\n",
      "                        \"size\": 232.11\n",
      "                    },\n",
      "                    {\n",
      "                        \"price\": 1.32,\n",
      "                        \"size\": 884.14\n",
      "                    },\n",
      "                    {\n",
      "                        \"price\": 1.33,\n",
      "                        \"size\": 37.3\n",
      "                    }\n",
      "                ]\n",
      "            }\n",
      "        },\n",
      "        {\n",
      "            \"selectionId\": 12008511,\n",
      "            \"handicap\": 0.0,\n",
      "            \"state\": {\n",
      "                \"sortPriority\": 2,\n",
      "                \"lastPriceTraded\": 4.6,\n",
      "                \"totalMatched\": 649.5210587412134,\n",
      "                \"status\": \"ACTIVE\"\n",
      "            },\n",
      "            \"exchange\": {\n",
      "                \"availableToBack\": [\n",
      "                    {\n",
      "                        \"price\": 4.2,\n",
      "                        \"size\": 81.88\n",
      "                    },\n",
      "                    {\n",
      "                        \"price\": 4.1,\n",
      "                        \"size\": 280.99\n",
      "                    },\n",
      "                    {\n",
      "                        \"price\": 4.0,\n",
      "                        \"size\": 6.2\n",
      "                    }\n",
      "                ],\n",
      "                \"availableToLay\": [\n",
      "                    {\n",
      "                        \"price\": 4.4,\n",
      "                        \"size\": 22.47\n",
      "                    },\n",
      "                    {\n",
      "                        \"price\": 4.5,\n",
      "                        \"size\": 51.74\n",
      "                    },\n",
      "                    {\n",
      "                        \"price\": 4.6,\n",
      "                        \"size\": 108.86\n",
      "                    }\n",
      "                ]\n",
      "            }\n",
      "        }\n",
      "    ],\n",
      "    \"isMarketDataVirtual\": true\n",
      "}\n"
     ]
    }
   ],
   "source": [
    "market_id = market_catalogues[0]['marketId']\n",
    "\n",
    "markets = api.get_markets(market_id_list=[market_id])\n",
    "api._print_dict(markets[0])"
   ]
  }
 ],
 "metadata": {
  "kernelspec": {
   "display_name": "Python 3",
   "language": "python",
   "name": "python3"
  },
  "language_info": {
   "codemirror_mode": {
    "name": "ipython",
    "version": 3
   },
   "file_extension": ".py",
   "mimetype": "text/x-python",
   "name": "python",
   "nbconvert_exporter": "python",
   "pygments_lexer": "ipython3",
   "version": "3.11.2"
  },
  "orig_nbformat": 4
 },
 "nbformat": 4,
 "nbformat_minor": 2
}
